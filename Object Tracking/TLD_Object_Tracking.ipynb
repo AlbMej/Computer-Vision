{
 "cells": [
  {
   "cell_type": "markdown",
   "metadata": {},
   "source": [
    "# Object Tracking with Tracking APIs and OpenCV"
   ]
  },
  {
   "cell_type": "code",
   "execution_count": 1,
   "metadata": {},
   "outputs": [],
   "source": [
    "import cv2"
   ]
  },
  {
   "cell_type": "markdown",
   "metadata": {},
   "source": [
    "## TLD Tracker\n",
    "- Stands for Tacking, Learning, and Detection.\n",
    "- The Tracker follows the object frame to frame.\n",
    "- The Detector localizes all appeareances that have been observed so far & corrects the Tracker if necessary.\n",
    "- The Learning estimates the Detector's errors and updates it to avoid these errors in the future. \n",
    "\n",
    "Pros:\n",
    "- Good at tracking even with obstruction in the frames (Really useful for a Gym setting).\n",
    "- Tracks well under large changes in scale and fast moving objects (Useful for sports). \n",
    "\n",
    "Cons:\n",
    "- Can provide many false positives (May track something that is no longer our original object. May be an issue with many people in the setting.)"
   ]
  },
  {
   "cell_type": "code",
   "execution_count": 2,
   "metadata": {},
   "outputs": [],
   "source": [
    "def chooseTracker():\n",
    "    print(\"Tracker APIs Menu\")\n",
    "    print(\"----------------------\")\n",
    "    print(\"Enter 0 for BOOSTING: \")\n",
    "    print(\"Enter 1 for MIL: \")\n",
    "    print(\"Enter 2 for KCF: \")\n",
    "    print(\"Enter 3 for TLD: \")\n",
    "    print(\"Enter 4 for MEDIANFLOW: \")\n",
    "    choice = input(\"Please select a Tracker: \")\n",
    "    \n",
    "    if choice == '0':\n",
    "        tracker = cv2.TrackerBoosting_create()\n",
    "    if choice == '1':\n",
    "        tracker = cv2.TrackerMIL_create()\n",
    "    if choice == '2':\n",
    "        tracker = cv2.TrackerKCF_create()\n",
    "    if choice == '3':\n",
    "        tracker = cv2.TrackerTLD_create()\n",
    "    if choice == '4':\n",
    "        tracker = cv2.TrackerMedianFlow_create()\n",
    "        \n",
    "    return tracker"
   ]
  },
  {
   "cell_type": "code",
   "execution_count": 3,
   "metadata": {},
   "outputs": [],
   "source": [
    "def My_Tracker():\n",
    "    \"\"\"\n",
    "    Tracks a single object given a tracker\n",
    "    \"\"\"\n",
    "    #tracker = cv2.TrackerTLD_create()\n",
    "    tracker = chooseTracker()\n",
    "    tracker_name = str(tracker).split()[0][1:]\n",
    "\n",
    "    # Open the default camera\n",
    "    cap = cv2.VideoCapture(0)\n",
    "\n",
    "    # Check if we succeeded\n",
    "    if not cap.isOpened():\n",
    "        raise AssertionError(\"Camera not found\")\n",
    "\n",
    "    # Capture the first frame\n",
    "    retval, frame = cap.read() # cv2.VideoCapture.read([image]) → retval, image\n",
    "\n",
    "    # Select ROI (To manaully draw out the bounding box)\n",
    "    fromCenter = False\n",
    "    roi = cv2.selectROI(frame, fromCenter)\n",
    "\n",
    "    # Initialize tracker with first frame and bounding box\n",
    "    retval = tracker.init(frame, roi)\n",
    "\n",
    "    # Keep reading new frames\n",
    "    while True:\n",
    "        # Read a new frame\n",
    "        retval, frame = cap.read()\n",
    "\n",
    "        # Update Tracker\n",
    "        success, roi = tracker.update(frame)\n",
    "\n",
    "        # roi is an array of 4 floating point values\n",
    "        # To plot out the rectangle, we need each value as integers\n",
    "        (x,y,w,h) = tuple(map(int,roi))\n",
    "\n",
    "        # Draw ROI Rectangle as Tracker moves\n",
    "        if success:\n",
    "            # If we are able to find and update our Tracker success\n",
    "            point1 = (x, y) #Top left\n",
    "            point2 = (x+w, y+h) #Bottom Right\n",
    "            cv2.rectangle(frame, point1, point2, (0,255,0), 3)\n",
    "        else:\n",
    "            # If tracking failed \n",
    "            cv2.putText(frame, \"Failed to Detect Tracking!\", (100,200), cv2.FONT_HERSHEY_DUPLEX, 1,(0,0,255),3)\n",
    "\n",
    "        # Display tracker type\n",
    "        cv2.putText(frame, tracker_name, (20,400), cv2.FONT_HERSHEY_DUPLEX, 1, (0,255,0),3)\n",
    "\n",
    "        # Display result\n",
    "        cv2.imshow(tracker_name, frame)\n",
    "\n",
    "        # Exit if ESC pressed\n",
    "        k = cv2.waitKey(1) & 0xff\n",
    "        if k == 27: break\n",
    "\n",
    "    cap.release()\n",
    "    cv2.destroyAllWindows()"
   ]
  },
  {
   "cell_type": "code",
   "execution_count": 5,
   "metadata": {},
   "outputs": [
    {
     "name": "stdout",
     "output_type": "stream",
     "text": [
      "Tracker APIs Menu\n",
      "----------------------\n",
      "Enter 0 for BOOSTING: \n",
      "Enter 1 for MIL: \n",
      "Enter 2 for KCF: \n",
      "Enter 3 for TLD: \n",
      "Enter 4 for MEDIANFLOW: \n"
     ]
    },
    {
     "name": "stdin",
     "output_type": "stream",
     "text": [
      "Please select a Tracker:  3\n"
     ]
    },
    {
     "ename": "error",
     "evalue": "OpenCV(3.4.2) C:\\Miniconda3\\conda-bld\\opencv-suite_1534379934306\\work\\modules\\highgui\\src\\window.cpp:356: error: (-215:Assertion failed) size.width>0 && size.height>0 in function 'cv::imshow'\n",
     "output_type": "error",
     "traceback": [
      "\u001b[1;31m---------------------------------------------------------------------------\u001b[0m",
      "\u001b[1;31merror\u001b[0m                                     Traceback (most recent call last)",
      "\u001b[1;32m<ipython-input-5-89948c673ae6>\u001b[0m in \u001b[0;36m<module>\u001b[1;34m()\u001b[0m\n\u001b[0;32m      1\u001b[0m \u001b[1;31m# tracker = cv2.TrackerTLD_create()\u001b[0m\u001b[1;33m\u001b[0m\u001b[1;33m\u001b[0m\u001b[0m\n\u001b[0;32m      2\u001b[0m \u001b[1;31m# My_Tracker(tracker)\u001b[0m\u001b[1;33m\u001b[0m\u001b[1;33m\u001b[0m\u001b[0m\n\u001b[1;32m----> 3\u001b[1;33m \u001b[0mMy_Tracker\u001b[0m\u001b[1;33m(\u001b[0m\u001b[1;33m)\u001b[0m\u001b[1;33m\u001b[0m\u001b[0m\n\u001b[0m",
      "\u001b[1;32m<ipython-input-3-48b25a21138c>\u001b[0m in \u001b[0;36mMy_Tracker\u001b[1;34m()\u001b[0m\n\u001b[0;32m     50\u001b[0m \u001b[1;33m\u001b[0m\u001b[0m\n\u001b[0;32m     51\u001b[0m         \u001b[1;31m# Display result\u001b[0m\u001b[1;33m\u001b[0m\u001b[1;33m\u001b[0m\u001b[0m\n\u001b[1;32m---> 52\u001b[1;33m         \u001b[0mcv2\u001b[0m\u001b[1;33m.\u001b[0m\u001b[0mimshow\u001b[0m\u001b[1;33m(\u001b[0m\u001b[0mtracker_name\u001b[0m\u001b[1;33m,\u001b[0m \u001b[0mframe\u001b[0m\u001b[1;33m)\u001b[0m\u001b[1;33m\u001b[0m\u001b[0m\n\u001b[0m\u001b[0;32m     53\u001b[0m \u001b[1;33m\u001b[0m\u001b[0m\n\u001b[0;32m     54\u001b[0m         \u001b[1;31m# Exit if ESC pressed\u001b[0m\u001b[1;33m\u001b[0m\u001b[1;33m\u001b[0m\u001b[0m\n",
      "\u001b[1;31merror\u001b[0m: OpenCV(3.4.2) C:\\Miniconda3\\conda-bld\\opencv-suite_1534379934306\\work\\modules\\highgui\\src\\window.cpp:356: error: (-215:Assertion failed) size.width>0 && size.height>0 in function 'cv::imshow'\n"
     ]
    }
   ],
   "source": [
    "# tracker = cv2.TrackerTLD_create()\n",
    "# My_Tracker(tracker)\n",
    "My_Tracker()"
   ]
  },
  {
   "cell_type": "code",
   "execution_count": 9,
   "metadata": {},
   "outputs": [],
   "source": [
    "def Multi_Tracker():\n",
    "    \"\"\"\n",
    "    Tracks multiple objects (Trying to make a Basketball tracker)\n",
    "    \"\"\"\n",
    "    trackers = cv2.MultiTracker_create()\n",
    "    \n",
    "#     # Set video to load\n",
    "#     videoPath = \"Videos/LeftAngle.mp4\"\n",
    "\n",
    "#     # Create a video capture object to read videos\n",
    "#     cap = cv2.VideoCapture(videoPath)\n",
    "\n",
    "    cap = cv2.VideoCapture(0)\n",
    "    \n",
    "\n",
    "    if not cap.isOpened():\n",
    "        raise AssertionError(\"Camera not found\")\n",
    "\n",
    "    retval, frame = cap.read() \n",
    "\n",
    "    # Select the ROI of each object you want to track (press ENTER or SPACE after selecting the ROI)\n",
    "    ROIs = cv2.selectROIs(\"Frame\", frame, fromCenter = False)\n",
    "    ROIs = tuple(map(tuple, ROIs)) \n",
    "    # Create a new object tracker for the bounding box and add it to our multi-object tracker\n",
    "    for roi in ROIs:\n",
    "        trackers.add(cv2.TrackerTLD_create(), frame, roi)\n",
    "\n",
    "    #OpenCV uses BGR color space..\n",
    "    colors = {'green': (0,255,0) , 'blue': (255,0,0), 'red': (0,0,255)}\n",
    "\n",
    "    # Keep reading new frames\n",
    "    while True:\n",
    "        retval, frame = cap.read()\n",
    "        \n",
    "        if frame is None:\n",
    "            break\n",
    "\n",
    "        # Update Tracker\n",
    "        (success, ROIs) = trackers.update(frame)\n",
    "        key = cv2.waitKey(1) & 0xff\n",
    "        \n",
    "        if success:\n",
    "            for roi in ROIs:       \n",
    "                (x, y, w, h) = tuple(map(int,roi))\n",
    "                point1 = (x, y) #Top left\n",
    "                point2 = (x+w, y+h) #Bottom Right\n",
    "                cv2.rectangle(frame, point1, point2, colors['green'], 2)\n",
    "        else:\n",
    "            # If tracking failed \n",
    "            cv2.putText(frame, \"Failed to Detect all Objects!\", (100,200), cv2.FONT_HERSHEY_DUPLEX, 1, colors['red'],3)\n",
    "\n",
    "        cv2.putText(frame, 'Frame', (20,400), cv2.FONT_HERSHEY_DUPLEX, 1, colors['blue'],3)\n",
    "        cv2.imshow('Frame', frame)\n",
    "\n",
    "        #key = cv2.waitKey(1) & 0xff\n",
    "        if key == 27: break # If ESC pressed\n",
    "\n",
    "    cap.release()\n",
    "    cv2.destroyAllWindows()"
   ]
  },
  {
   "cell_type": "code",
   "execution_count": 10,
   "metadata": {},
   "outputs": [],
   "source": [
    "Multi_Tracker()"
   ]
  },
  {
   "cell_type": "code",
   "execution_count": null,
   "metadata": {},
   "outputs": [],
   "source": []
  },
  {
   "cell_type": "code",
   "execution_count": null,
   "metadata": {},
   "outputs": [],
   "source": []
  }
 ],
 "metadata": {
  "kernelspec": {
   "display_name": "Python 3",
   "language": "python",
   "name": "python3"
  },
  "language_info": {
   "codemirror_mode": {
    "name": "ipython",
    "version": 3
   },
   "file_extension": ".py",
   "mimetype": "text/x-python",
   "name": "python",
   "nbconvert_exporter": "python",
   "pygments_lexer": "ipython3",
   "version": "3.6.6"
  }
 },
 "nbformat": 4,
 "nbformat_minor": 2
}
